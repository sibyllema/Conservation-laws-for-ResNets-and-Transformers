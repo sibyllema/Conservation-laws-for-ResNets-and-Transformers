{
  "nbformat": 4,
  "nbformat_minor": 0,
  "metadata": {
    "colab": {
      "provenance": [],
      "gpuType": "T4"
    },
    "kernelspec": {
      "name": "python3",
      "display_name": "Python 3"
    },
    "language_info": {
      "name": "python"
    },
    "accelerator": "GPU"
  },
  "cells": [
    {
      "cell_type": "code",
      "source": [
        "import torch\n",
        "import torch.nn as nn\n",
        "import matplotlib.pyplot as plt\n",
        "import numpy as np\n",
        "import imageio\n",
        "\n",
        "device = torch.device(\"cuda\" if torch.cuda.is_available() else \"cpu\")"
      ],
      "metadata": {
        "id": "lacgHUXD8k7Z"
      },
      "execution_count": 1,
      "outputs": []
    },
    {
      "cell_type": "code",
      "source": [
        "def ResNet_two_blocks(U1, V1, U2, V2, x, y):\n",
        "    # First residual block\n",
        "    hidden1 = torch.relu(torch.sum(V1 * x[:, None, :], dim=2))\n",
        "    output1 = x + torch.sum(U1 * hidden1[:, None, :], dim=2)  # output_1 = x + U_1 σ(V_1 x)\n",
        "\n",
        "    # Second residual block\n",
        "    hidden2 = torch.relu(torch.sum(V2 * output1[:, None, :], dim=2))\n",
        "    output2 = output1 + torch.sum(U2 * hidden2[:, None, :], dim=2)  # output_2 = output_1 + U_2 σ(V_2 output_1)\n",
        "\n",
        "    # Loss calculation\n",
        "    loss = torch.sum((output2 - y) ** 2)\n",
        "    return loss\n",
        "\n",
        "def compute_dim_grad(batch_size, input_size, hidden_size1, hidden_size2):\n",
        "    param_dimension = 2*(input_size * hidden_size1) + 2*(input_size * hidden_size2)\n",
        "    upper_bound = param_dimension - hidden_size1 - hidden_size2\n",
        "    x = torch.randn(batch_size, input_size, device=device).double()\n",
        "    y = torch.randn(batch_size, input_size, device=device).double()\n",
        "\n",
        "    V1_ = torch.randn(hidden_size1, input_size, device=device).double()\n",
        "    V1 = V1_.unsqueeze(0).repeat(batch_size, 1, 1).requires_grad_(True)\n",
        "    U1_ = torch.randn(input_size, hidden_size1, device=device).double()\n",
        "    U1 = U1_.unsqueeze(0).repeat(batch_size, 1, 1).requires_grad_(True)\n",
        "    V2_ = torch.randn(hidden_size2, input_size, device=device).double()\n",
        "    V2 = V2_.unsqueeze(0).repeat(batch_size, 1, 1).requires_grad_(True)\n",
        "    U2_ = torch.randn(input_size, hidden_size2, device=device).double()\n",
        "    U2 = U2_.unsqueeze(0).repeat(batch_size, 1, 1).requires_grad_(True)\n",
        "\n",
        "    loss = ResNet_two_blocks(U1, V1, U2, V2, x, y)\n",
        "    loss.backward()\n",
        "\n",
        "    gradient_matrix = torch.cat([V1.grad.view(batch_size, -1), U1.grad.view(batch_size, -1),\n",
        "                                  V2.grad.view(batch_size, -1), U2.grad.view(batch_size, -1)], axis=1)\n",
        "    #S = np.linalg.svd(gradient_matrix.cpu().numpy(), compute_uv=False)\n",
        "    #lS = np.log10(S)\n",
        "    #plt.plot(lS, '.')\n",
        "    #plt.plot( [upper_bound - 1, upper_bound - 1], [min(lS),max(lS)], 'r:' )\n",
        "    # Zero out the gradients\n",
        "    U1.grad.zero_()\n",
        "    V1.grad.zero_()\n",
        "    U2.grad.zero_()\n",
        "    V2.grad.zero_()\n",
        "    return np.linalg.matrix_rank(gradient_matrix.cpu().numpy())\n",
        "\n",
        "# Exemple d'utilisation\n",
        "batch_size = 100000\n",
        "input_size = 3\n",
        "hidden_size1 = 50\n",
        "hidden_size2 = 20\n",
        "param_dimension = 2*(input_size * hidden_size1) + 2*(input_size * hidden_size2)\n",
        "\n",
        "rank = compute_dim_grad(batch_size, input_size, hidden_size1, hidden_size2)\n",
        "print(\"Rank of the gradient matrix:\", rank)\n",
        "print(\"expected:\", param_dimension - hidden_size1 - hidden_size2)"
      ],
      "metadata": {
        "colab": {
          "base_uri": "https://localhost:8080/"
        },
        "id": "Z2hbqOOo8fMR",
        "outputId": "252b9472-a295-42dc-dc07-dfb8081cb006"
      },
      "execution_count": 3,
      "outputs": [
        {
          "output_type": "stream",
          "name": "stdout",
          "text": [
            "Rank of the gradient matrix: 350\n",
            "expected: 350\n"
          ]
        }
      ]
    },
    {
      "cell_type": "code",
      "source": [
        "import numpy as np\n",
        "from joblib import Parallel, delayed\n",
        "\n",
        "# Number of trials\n",
        "N_TRIALS = 100\n",
        "\n",
        "# Parameter ranges\n",
        "input_size_list = list(range(1, 14, 3))\n",
        "hidden_size_list = list(range(1, 14, 3))\n",
        "\n",
        "def compute_single_trial(batch_size, input_size, hidden_size1, hidden_size2):\n",
        "    \"\"\"\n",
        "    Compute a single trial and return if the condition is satisfied.\n",
        "    \"\"\"\n",
        "    param_dimension = 2 * (input_size * hidden_size1) + 2 * (input_size * hidden_size2)\n",
        "    upper_bound = param_dimension - hidden_size1 - hidden_size2\n",
        "    estimated_value = compute_dim_grad(\n",
        "        batch_size=batch_size,\n",
        "        input_size=input_size,\n",
        "        hidden_size1=hidden_size1,\n",
        "        hidden_size2=hidden_size2\n",
        "    )  # Assumes compute_dim_grad is implemented\n",
        "    return float(upper_bound == estimated_value)\n",
        "\n",
        "\n",
        "xp_results = np.zeros((len(input_size_list), len(hidden_size_list), N_TRIALS))\n",
        "\n",
        "# Parallelize over input_size and hidden_size\n",
        "for i, input_size in enumerate(input_size_list):\n",
        "    for j, hidden_size in enumerate(hidden_size_list):\n",
        "        param_dimension = 4 * (input_size * hidden_size)\n",
        "        batch_size = 100000\n",
        "        # Use joblib to parallelize trials\n",
        "        results = Parallel(n_jobs=-1)(\n",
        "            delayed(compute_single_trial)(\n",
        "                    batch_size, input_size, hidden_size, hidden_size\n",
        "                ) for _ in range(N_TRIALS)\n",
        "            )\n",
        "        xp_results[i, j, :] = results\n",
        "        print(f\"Completed input_size={input_size}, hidden_size={hidden_size}\")\n",
        "\n",
        "    # Compute probabilities\n",
        "    xp_probas = np.mean(xp_results, axis=-1)\n",
        "    #map_batch_size.append(xp_probas)"
      ],
      "metadata": {
        "colab": {
          "base_uri": "https://localhost:8080/"
        },
        "id": "JXU7QsCbBjJw",
        "outputId": "5ee52e2c-ba5e-4841-80f1-3533364297c1"
      },
      "execution_count": 5,
      "outputs": [
        {
          "output_type": "stream",
          "name": "stdout",
          "text": [
            "Completed input_size=1, hidden_size=1\n",
            "Completed input_size=1, hidden_size=4\n",
            "Completed input_size=1, hidden_size=7\n",
            "Completed input_size=1, hidden_size=10\n",
            "Completed input_size=1, hidden_size=13\n",
            "Completed input_size=4, hidden_size=1\n",
            "Completed input_size=4, hidden_size=4\n",
            "Completed input_size=4, hidden_size=7\n",
            "Completed input_size=4, hidden_size=10\n",
            "Completed input_size=4, hidden_size=13\n",
            "Completed input_size=7, hidden_size=1\n",
            "Completed input_size=7, hidden_size=4\n",
            "Completed input_size=7, hidden_size=7\n",
            "Completed input_size=7, hidden_size=10\n",
            "Completed input_size=7, hidden_size=13\n",
            "Completed input_size=10, hidden_size=1\n",
            "Completed input_size=10, hidden_size=4\n",
            "Completed input_size=10, hidden_size=7\n",
            "Completed input_size=10, hidden_size=10\n",
            "Completed input_size=10, hidden_size=13\n",
            "Completed input_size=13, hidden_size=1\n",
            "Completed input_size=13, hidden_size=4\n",
            "Completed input_size=13, hidden_size=7\n",
            "Completed input_size=13, hidden_size=10\n",
            "Completed input_size=13, hidden_size=13\n"
          ]
        }
      ]
    },
    {
      "cell_type": "code",
      "source": [
        "# Assuming you have already calculated xp_probas\n",
        "\n",
        "# Create a figure and axis\n",
        "fig, ax = plt.subplots(figsize=(10, 8))\n",
        "\n",
        "# Create the heatmap\n",
        "im = ax.imshow(xp_probas.T, cmap='viridis', aspect='auto', origin='lower')\n",
        "\n",
        "# Set the ticks and labels for x and y axes\n",
        "ax.set_xticks(range(len(input_size_list)))\n",
        "ax.set_yticks(range(len(hidden_size_list)))\n",
        "ax.set_xticklabels(input_size_list)\n",
        "ax.set_yticklabels(hidden_size_list)\n",
        "\n",
        "# Set labels and title\n",
        "ax.set_xlabel('Input Size')\n",
        "ax.set_ylabel('Hidden Size')\n",
        "ax.set_title('Probability Heatmap')\n",
        "\n",
        "# Add colorbar\n",
        "cbar = fig.colorbar(im)\n",
        "cbar.set_label('Probability')\n",
        "\n",
        "# Add text annotations to show the probability values\n",
        "for i in range(len(input_size_list)):\n",
        "    for j in range(len(hidden_size_list)):\n",
        "        text = ax.text(i, j, f\"{xp_probas[i, j]:.2f}\",\n",
        "                       ha=\"center\", va=\"center\", color=\"w\")\n",
        "\n",
        "plt.tight_layout()\n",
        "plt.show()"
      ],
      "metadata": {
        "colab": {
          "base_uri": "https://localhost:8080/",
          "height": 807
        },
        "id": "iGMoAPCg0UmP",
        "outputId": "11df8215-c539-48a4-83fe-78cefc34f2e0"
      },
      "execution_count": 6,
      "outputs": [
        {
          "output_type": "display_data",
          "data": {
            "text/plain": [
              "<Figure size 1000x800 with 2 Axes>"
            ],
            "image/png": "[encoded data removed]"
          },
          "metadata": {}
        }
      ]
    },
    {
      "cell_type": "code",
      "source": [],
      "metadata": {
        "id": "rIhqdD9GUs0s"
      },
      "execution_count": null,
      "outputs": []
    }
  ]
}